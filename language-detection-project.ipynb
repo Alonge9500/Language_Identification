{
 "cells": [
  {
   "cell_type": "code",
   "execution_count": 1,
   "id": "eb116656",
   "metadata": {
    "_cell_guid": "b1076dfc-b9ad-4769-8c92-a6c4dae69d19",
    "_uuid": "8f2839f25d086af736a60e9eeb907d3b93b6e0e5",
    "execution": {
     "iopub.execute_input": "2022-08-21T08:29:11.115808Z",
     "iopub.status.busy": "2022-08-21T08:29:11.114326Z",
     "iopub.status.idle": "2022-08-21T08:29:11.138292Z",
     "shell.execute_reply": "2022-08-21T08:29:11.136836Z"
    },
    "papermill": {
     "duration": 0.035991,
     "end_time": "2022-08-21T08:29:11.141672",
     "exception": false,
     "start_time": "2022-08-21T08:29:11.105681",
     "status": "completed"
    },
    "tags": []
   },
   "outputs": [
    {
     "name": "stdout",
     "output_type": "stream",
     "text": [
      "/kaggle/input/language-identification-datasst/dataset.csv\n"
     ]
    }
   ],
   "source": [
    "# This Python 3 environment comes with many helpful analytics libraries installed\n",
    "# It is defined by the kaggle/python Docker image: https://github.com/kaggle/docker-python\n",
    "# For example, here's several helpful packages to load\n",
    "\n",
    "import numpy as np # linear algebra\n",
    "import pandas as pd # data processing, CSV file I/O (e.g. pd.read_csv)\n",
    "\n",
    "# Input data files are available in the read-only \"../input/\" directory\n",
    "# For example, running this (by clicking run or pressing Shift+Enter) will list all files under the input directory\n",
    "\n",
    "import os\n",
    "for dirname, _, filenames in os.walk('/kaggle/input'):\n",
    "    for filename in filenames:\n",
    "        print(os.path.join(dirname, filename))\n",
    "\n",
    "# You can write up to 20GB to the current directory (/kaggle/working/) that gets preserved as output when you create a version using \"Save & Run All\" \n",
    "# You can also write temporary files to /kaggle/temp/, but they won't be saved outside of the current session"
   ]
  },
  {
   "cell_type": "code",
   "execution_count": 2,
   "id": "19c02e89",
   "metadata": {
    "execution": {
     "iopub.execute_input": "2022-08-21T08:29:11.153501Z",
     "iopub.status.busy": "2022-08-21T08:29:11.152820Z",
     "iopub.status.idle": "2022-08-21T08:29:11.601056Z",
     "shell.execute_reply": "2022-08-21T08:29:11.599845Z"
    },
    "papermill": {
     "duration": 0.457381,
     "end_time": "2022-08-21T08:29:11.604076",
     "exception": false,
     "start_time": "2022-08-21T08:29:11.146695",
     "status": "completed"
    },
    "tags": []
   },
   "outputs": [],
   "source": [
    "df = pd.read_csv('../input/language-identification-datasst/dataset.csv')"
   ]
  },
  {
   "cell_type": "code",
   "execution_count": 3,
   "id": "2b139f4e",
   "metadata": {
    "execution": {
     "iopub.execute_input": "2022-08-21T08:29:11.616034Z",
     "iopub.status.busy": "2022-08-21T08:29:11.614987Z",
     "iopub.status.idle": "2022-08-21T08:29:11.636142Z",
     "shell.execute_reply": "2022-08-21T08:29:11.634857Z"
    },
    "papermill": {
     "duration": 0.029705,
     "end_time": "2022-08-21T08:29:11.638745",
     "exception": false,
     "start_time": "2022-08-21T08:29:11.609040",
     "status": "completed"
    },
    "tags": []
   },
   "outputs": [
    {
     "data": {
      "text/html": [
       "<div>\n",
       "<style scoped>\n",
       "    .dataframe tbody tr th:only-of-type {\n",
       "        vertical-align: middle;\n",
       "    }\n",
       "\n",
       "    .dataframe tbody tr th {\n",
       "        vertical-align: top;\n",
       "    }\n",
       "\n",
       "    .dataframe thead th {\n",
       "        text-align: right;\n",
       "    }\n",
       "</style>\n",
       "<table border=\"1\" class=\"dataframe\">\n",
       "  <thead>\n",
       "    <tr style=\"text-align: right;\">\n",
       "      <th></th>\n",
       "      <th>Text</th>\n",
       "      <th>language</th>\n",
       "    </tr>\n",
       "  </thead>\n",
       "  <tbody>\n",
       "    <tr>\n",
       "      <th>0</th>\n",
       "      <td>klement gottwaldi surnukeha palsameeriti ning ...</td>\n",
       "      <td>Estonian</td>\n",
       "    </tr>\n",
       "    <tr>\n",
       "      <th>1</th>\n",
       "      <td>sebes joseph pereira thomas  på eng the jesuit...</td>\n",
       "      <td>Swedish</td>\n",
       "    </tr>\n",
       "    <tr>\n",
       "      <th>2</th>\n",
       "      <td>ถนนเจริญกรุง อักษรโรมัน thanon charoen krung เ...</td>\n",
       "      <td>Thai</td>\n",
       "    </tr>\n",
       "    <tr>\n",
       "      <th>3</th>\n",
       "      <td>விசாகப்பட்டினம் தமிழ்ச்சங்கத்தை இந்துப் பத்திர...</td>\n",
       "      <td>Tamil</td>\n",
       "    </tr>\n",
       "    <tr>\n",
       "      <th>4</th>\n",
       "      <td>de spons behoort tot het geslacht haliclona en...</td>\n",
       "      <td>Dutch</td>\n",
       "    </tr>\n",
       "  </tbody>\n",
       "</table>\n",
       "</div>"
      ],
      "text/plain": [
       "                                                Text  language\n",
       "0  klement gottwaldi surnukeha palsameeriti ning ...  Estonian\n",
       "1  sebes joseph pereira thomas  på eng the jesuit...   Swedish\n",
       "2  ถนนเจริญกรุง อักษรโรมัน thanon charoen krung เ...      Thai\n",
       "3  விசாகப்பட்டினம் தமிழ்ச்சங்கத்தை இந்துப் பத்திர...     Tamil\n",
       "4  de spons behoort tot het geslacht haliclona en...     Dutch"
      ]
     },
     "execution_count": 3,
     "metadata": {},
     "output_type": "execute_result"
    }
   ],
   "source": [
    "df.head()"
   ]
  },
  {
   "cell_type": "code",
   "execution_count": 4,
   "id": "54ae7cf6",
   "metadata": {
    "execution": {
     "iopub.execute_input": "2022-08-21T08:29:11.650658Z",
     "iopub.status.busy": "2022-08-21T08:29:11.649936Z",
     "iopub.status.idle": "2022-08-21T08:29:11.656744Z",
     "shell.execute_reply": "2022-08-21T08:29:11.655527Z"
    },
    "papermill": {
     "duration": 0.015851,
     "end_time": "2022-08-21T08:29:11.659402",
     "exception": false,
     "start_time": "2022-08-21T08:29:11.643551",
     "status": "completed"
    },
    "tags": []
   },
   "outputs": [
    {
     "data": {
      "text/plain": [
       "(22000, 2)"
      ]
     },
     "execution_count": 4,
     "metadata": {},
     "output_type": "execute_result"
    }
   ],
   "source": [
    "df.shape"
   ]
  },
  {
   "cell_type": "code",
   "execution_count": 5,
   "id": "45d3a328",
   "metadata": {
    "execution": {
     "iopub.execute_input": "2022-08-21T08:29:11.671670Z",
     "iopub.status.busy": "2022-08-21T08:29:11.671219Z",
     "iopub.status.idle": "2022-08-21T08:29:11.701069Z",
     "shell.execute_reply": "2022-08-21T08:29:11.700230Z"
    },
    "papermill": {
     "duration": 0.039142,
     "end_time": "2022-08-21T08:29:11.703713",
     "exception": false,
     "start_time": "2022-08-21T08:29:11.664571",
     "status": "completed"
    },
    "tags": []
   },
   "outputs": [
    {
     "name": "stdout",
     "output_type": "stream",
     "text": [
      "<class 'pandas.core.frame.DataFrame'>\n",
      "RangeIndex: 22000 entries, 0 to 21999\n",
      "Data columns (total 2 columns):\n",
      " #   Column    Non-Null Count  Dtype \n",
      "---  ------    --------------  ----- \n",
      " 0   Text      22000 non-null  object\n",
      " 1   language  22000 non-null  object\n",
      "dtypes: object(2)\n",
      "memory usage: 343.9+ KB\n"
     ]
    }
   ],
   "source": [
    "df.info()"
   ]
  },
  {
   "cell_type": "code",
   "execution_count": 6,
   "id": "bc4c5dce",
   "metadata": {
    "execution": {
     "iopub.execute_input": "2022-08-21T08:29:11.716336Z",
     "iopub.status.busy": "2022-08-21T08:29:11.715110Z",
     "iopub.status.idle": "2022-08-21T08:29:11.757132Z",
     "shell.execute_reply": "2022-08-21T08:29:11.755358Z"
    },
    "papermill": {
     "duration": 0.051434,
     "end_time": "2022-08-21T08:29:11.760084",
     "exception": false,
     "start_time": "2022-08-21T08:29:11.708650",
     "status": "completed"
    },
    "tags": []
   },
   "outputs": [
    {
     "data": {
      "text/html": [
       "<div>\n",
       "<style scoped>\n",
       "    .dataframe tbody tr th:only-of-type {\n",
       "        vertical-align: middle;\n",
       "    }\n",
       "\n",
       "    .dataframe tbody tr th {\n",
       "        vertical-align: top;\n",
       "    }\n",
       "\n",
       "    .dataframe thead th {\n",
       "        text-align: right;\n",
       "    }\n",
       "</style>\n",
       "<table border=\"1\" class=\"dataframe\">\n",
       "  <thead>\n",
       "    <tr style=\"text-align: right;\">\n",
       "      <th></th>\n",
       "      <th>Text</th>\n",
       "      <th>language</th>\n",
       "    </tr>\n",
       "  </thead>\n",
       "  <tbody>\n",
       "    <tr>\n",
       "      <th>count</th>\n",
       "      <td>22000</td>\n",
       "      <td>22000</td>\n",
       "    </tr>\n",
       "    <tr>\n",
       "      <th>unique</th>\n",
       "      <td>21859</td>\n",
       "      <td>22</td>\n",
       "    </tr>\n",
       "    <tr>\n",
       "      <th>top</th>\n",
       "      <td>haec commentatio automatice praeparata res ast...</td>\n",
       "      <td>Estonian</td>\n",
       "    </tr>\n",
       "    <tr>\n",
       "      <th>freq</th>\n",
       "      <td>48</td>\n",
       "      <td>1000</td>\n",
       "    </tr>\n",
       "  </tbody>\n",
       "</table>\n",
       "</div>"
      ],
      "text/plain": [
       "                                                     Text  language\n",
       "count                                               22000     22000\n",
       "unique                                              21859        22\n",
       "top     haec commentatio automatice praeparata res ast...  Estonian\n",
       "freq                                                   48      1000"
      ]
     },
     "execution_count": 6,
     "metadata": {},
     "output_type": "execute_result"
    }
   ],
   "source": [
    "df.describe()"
   ]
  },
  {
   "cell_type": "code",
   "execution_count": 7,
   "id": "15618e81",
   "metadata": {
    "execution": {
     "iopub.execute_input": "2022-08-21T08:29:11.772884Z",
     "iopub.status.busy": "2022-08-21T08:29:11.772128Z",
     "iopub.status.idle": "2022-08-21T08:29:11.786493Z",
     "shell.execute_reply": "2022-08-21T08:29:11.785334Z"
    },
    "papermill": {
     "duration": 0.023649,
     "end_time": "2022-08-21T08:29:11.789186",
     "exception": false,
     "start_time": "2022-08-21T08:29:11.765537",
     "status": "completed"
    },
    "tags": []
   },
   "outputs": [
    {
     "data": {
      "text/plain": [
       "Text        0\n",
       "language    0\n",
       "dtype: int64"
      ]
     },
     "execution_count": 7,
     "metadata": {},
     "output_type": "execute_result"
    }
   ],
   "source": [
    "df.isnull().sum()"
   ]
  },
  {
   "cell_type": "code",
   "execution_count": 8,
   "id": "78c359e4",
   "metadata": {
    "execution": {
     "iopub.execute_input": "2022-08-21T08:29:11.802305Z",
     "iopub.status.busy": "2022-08-21T08:29:11.801385Z",
     "iopub.status.idle": "2022-08-21T08:29:11.812478Z",
     "shell.execute_reply": "2022-08-21T08:29:11.811224Z"
    },
    "papermill": {
     "duration": 0.020181,
     "end_time": "2022-08-21T08:29:11.814854",
     "exception": false,
     "start_time": "2022-08-21T08:29:11.794673",
     "status": "completed"
    },
    "tags": []
   },
   "outputs": [
    {
     "data": {
      "text/plain": [
       "Estonian      1000\n",
       "Swedish       1000\n",
       "English       1000\n",
       "Russian       1000\n",
       "Romanian      1000\n",
       "Persian       1000\n",
       "Pushto        1000\n",
       "Spanish       1000\n",
       "Hindi         1000\n",
       "Korean        1000\n",
       "Chinese       1000\n",
       "French        1000\n",
       "Portugese     1000\n",
       "Indonesian    1000\n",
       "Urdu          1000\n",
       "Latin         1000\n",
       "Turkish       1000\n",
       "Japanese      1000\n",
       "Dutch         1000\n",
       "Tamil         1000\n",
       "Thai          1000\n",
       "Arabic        1000\n",
       "Name: language, dtype: int64"
      ]
     },
     "execution_count": 8,
     "metadata": {},
     "output_type": "execute_result"
    }
   ],
   "source": [
    "df['language'].value_counts()"
   ]
  },
  {
   "cell_type": "code",
   "execution_count": 9,
   "id": "dfefba98",
   "metadata": {
    "execution": {
     "iopub.execute_input": "2022-08-21T08:29:11.827818Z",
     "iopub.status.busy": "2022-08-21T08:29:11.827422Z",
     "iopub.status.idle": "2022-08-21T08:29:11.833777Z",
     "shell.execute_reply": "2022-08-21T08:29:11.832662Z"
    },
    "papermill": {
     "duration": 0.01583,
     "end_time": "2022-08-21T08:29:11.836193",
     "exception": false,
     "start_time": "2022-08-21T08:29:11.820363",
     "status": "completed"
    },
    "tags": []
   },
   "outputs": [],
   "source": [
    "x = np.array(df['Text'])\n",
    "y = np.array(df['language'])"
   ]
  },
  {
   "cell_type": "code",
   "execution_count": 10,
   "id": "a3c7f6db",
   "metadata": {
    "execution": {
     "iopub.execute_input": "2022-08-21T08:29:11.849478Z",
     "iopub.status.busy": "2022-08-21T08:29:11.849077Z",
     "iopub.status.idle": "2022-08-21T08:29:13.029866Z",
     "shell.execute_reply": "2022-08-21T08:29:13.028345Z"
    },
    "papermill": {
     "duration": 1.191192,
     "end_time": "2022-08-21T08:29:13.033088",
     "exception": false,
     "start_time": "2022-08-21T08:29:11.841896",
     "status": "completed"
    },
    "tags": []
   },
   "outputs": [],
   "source": [
    "from sklearn.feature_extraction.text import CountVectorizer\n",
    "from sklearn.naive_bayes import MultinomialNB\n",
    "from sklearn.model_selection import train_test_split"
   ]
  },
  {
   "cell_type": "code",
   "execution_count": 11,
   "id": "a50a8601",
   "metadata": {
    "execution": {
     "iopub.execute_input": "2022-08-21T08:29:13.046722Z",
     "iopub.status.busy": "2022-08-21T08:29:13.046291Z",
     "iopub.status.idle": "2022-08-21T08:29:13.051873Z",
     "shell.execute_reply": "2022-08-21T08:29:13.050577Z"
    },
    "papermill": {
     "duration": 0.015448,
     "end_time": "2022-08-21T08:29:13.054569",
     "exception": false,
     "start_time": "2022-08-21T08:29:13.039121",
     "status": "completed"
    },
    "tags": []
   },
   "outputs": [],
   "source": [
    "count_vect = CountVectorizer()"
   ]
  },
  {
   "cell_type": "code",
   "execution_count": 12,
   "id": "c368ebdb",
   "metadata": {
    "execution": {
     "iopub.execute_input": "2022-08-21T08:29:13.069513Z",
     "iopub.status.busy": "2022-08-21T08:29:13.068631Z",
     "iopub.status.idle": "2022-08-21T08:29:15.479523Z",
     "shell.execute_reply": "2022-08-21T08:29:15.478308Z"
    },
    "papermill": {
     "duration": 2.422101,
     "end_time": "2022-08-21T08:29:15.482640",
     "exception": false,
     "start_time": "2022-08-21T08:29:13.060539",
     "status": "completed"
    },
    "tags": []
   },
   "outputs": [],
   "source": [
    "X = count_vect.fit_transform(x)"
   ]
  },
  {
   "cell_type": "code",
   "execution_count": 13,
   "id": "4ed93280",
   "metadata": {
    "execution": {
     "iopub.execute_input": "2022-08-21T08:29:15.495604Z",
     "iopub.status.busy": "2022-08-21T08:29:15.495217Z",
     "iopub.status.idle": "2022-08-21T08:29:15.509647Z",
     "shell.execute_reply": "2022-08-21T08:29:15.508890Z"
    },
    "papermill": {
     "duration": 0.023633,
     "end_time": "2022-08-21T08:29:15.511966",
     "exception": false,
     "start_time": "2022-08-21T08:29:15.488333",
     "status": "completed"
    },
    "tags": []
   },
   "outputs": [],
   "source": [
    "X_train, X_test, y_train, y_test = train_test_split(X, y, test_size=0.33, random_state=3)"
   ]
  },
  {
   "cell_type": "code",
   "execution_count": 14,
   "id": "8f420c41",
   "metadata": {
    "execution": {
     "iopub.execute_input": "2022-08-21T08:29:15.524849Z",
     "iopub.status.busy": "2022-08-21T08:29:15.524258Z",
     "iopub.status.idle": "2022-08-21T08:29:16.060904Z",
     "shell.execute_reply": "2022-08-21T08:29:16.059650Z"
    },
    "papermill": {
     "duration": 0.546787,
     "end_time": "2022-08-21T08:29:16.064301",
     "exception": false,
     "start_time": "2022-08-21T08:29:15.517514",
     "status": "completed"
    },
    "tags": []
   },
   "outputs": [
    {
     "data": {
      "text/plain": [
       "MultinomialNB()"
      ]
     },
     "execution_count": 14,
     "metadata": {},
     "output_type": "execute_result"
    }
   ],
   "source": [
    "model = MultinomialNB()\n",
    "model.fit(X_train, y_train)"
   ]
  },
  {
   "cell_type": "code",
   "execution_count": 15,
   "id": "3efda8df",
   "metadata": {
    "execution": {
     "iopub.execute_input": "2022-08-21T08:29:16.082896Z",
     "iopub.status.busy": "2022-08-21T08:29:16.082379Z",
     "iopub.status.idle": "2022-08-21T08:29:16.151909Z",
     "shell.execute_reply": "2022-08-21T08:29:16.150814Z"
    },
    "papermill": {
     "duration": 0.082297,
     "end_time": "2022-08-21T08:29:16.154883",
     "exception": false,
     "start_time": "2022-08-21T08:29:16.072586",
     "status": "completed"
    },
    "tags": []
   },
   "outputs": [
    {
     "data": {
      "text/plain": [
       "0.9544077134986226"
      ]
     },
     "execution_count": 15,
     "metadata": {},
     "output_type": "execute_result"
    }
   ],
   "source": [
    "model.score(X_test, y_test)"
   ]
  },
  {
   "cell_type": "code",
   "execution_count": null,
   "id": "dcdb7c20",
   "metadata": {
    "papermill": {
     "duration": 0.007371,
     "end_time": "2022-08-21T08:29:16.170628",
     "exception": false,
     "start_time": "2022-08-21T08:29:16.163257",
     "status": "completed"
    },
    "tags": []
   },
   "outputs": [],
   "source": []
  }
 ],
 "metadata": {
  "kernelspec": {
   "display_name": "Python 3 (ipykernel)",
   "language": "python",
   "name": "python3"
  },
  "language_info": {
   "codemirror_mode": {
    "name": "ipython",
    "version": 3
   },
   "file_extension": ".py",
   "mimetype": "text/x-python",
   "name": "python",
   "nbconvert_exporter": "python",
   "pygments_lexer": "ipython3",
   "version": "3.11.7"
  },
  "papermill": {
   "default_parameters": {},
   "duration": 15.263468,
   "end_time": "2022-08-21T08:29:16.998740",
   "environment_variables": {},
   "exception": null,
   "input_path": "__notebook__.ipynb",
   "output_path": "__notebook__.ipynb",
   "parameters": {},
   "start_time": "2022-08-21T08:29:01.735272",
   "version": "2.3.4"
  },
  "widgets": {
   "application/vnd.jupyter.widget-state+json": {
    "state": {},
    "version_major": 2,
    "version_minor": 0
   }
  }
 },
 "nbformat": 4,
 "nbformat_minor": 5
}
