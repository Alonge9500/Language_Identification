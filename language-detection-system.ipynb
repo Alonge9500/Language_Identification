{
 "cells": [
  {
   "cell_type": "code",
   "execution_count": 1,
   "id": "365e671a",
   "metadata": {
    "_cell_guid": "b1076dfc-b9ad-4769-8c92-a6c4dae69d19",
    "_uuid": "8f2839f25d086af736a60e9eeb907d3b93b6e0e5",
    "execution": {
     "iopub.execute_input": "2021-10-29T18:11:31.798601Z",
     "iopub.status.busy": "2021-10-29T18:11:31.797196Z",
     "iopub.status.idle": "2021-10-29T18:11:31.823731Z",
     "shell.execute_reply": "2021-10-29T18:11:31.824265Z",
     "shell.execute_reply.started": "2021-10-29T18:03:48.174106Z"
    },
    "papermill": {
     "duration": 0.058651,
     "end_time": "2021-10-29T18:11:31.824602",
     "exception": false,
     "start_time": "2021-10-29T18:11:31.765951",
     "status": "completed"
    },
    "tags": []
   },
   "outputs": [
    {
     "name": "stdout",
     "output_type": "stream",
     "text": [
      "/kaggle/input/language-identification-datasst/dataset.csv\n"
     ]
    }
   ],
   "source": [
    "# This Python 3 environment comes with many helpful analytics libraries installed\n",
    "# It is defined by the kaggle/python Docker image: https://github.com/kaggle/docker-python\n",
    "# For example, here's several helpful packages to load\n",
    "\n",
    "import numpy as np # linear algebra\n",
    "import pandas as pd # data processing, CSV file I/O (e.g. pd.read_csv)\n",
    "\n",
    "# Input data files are available in the read-only \"../input/\" directory\n",
    "# For example, running this (by clicking run or pressing Shift+Enter) will list all files under the input directory\n",
    "\n",
    "import os\n",
    "for dirname, _, filenames in os.walk('/kaggle/input'):\n",
    "    for filename in filenames:\n",
    "        print(os.path.join(dirname, filename))\n",
    "\n",
    "# You can write up to 20GB to the current directory (/kaggle/working/) that gets preserved as output when you create a version using \"Save & Run All\" \n",
    "# You can also write temporary files to /kaggle/temp/, but they won't be saved outside of the current session"
   ]
  },
  {
   "cell_type": "code",
   "execution_count": 2,
   "id": "22f8cd1b",
   "metadata": {
    "execution": {
     "iopub.execute_input": "2021-10-29T18:11:31.870260Z",
     "iopub.status.busy": "2021-10-29T18:11:31.869595Z",
     "iopub.status.idle": "2021-10-29T18:11:32.793556Z",
     "shell.execute_reply": "2021-10-29T18:11:32.792978Z",
     "shell.execute_reply.started": "2021-10-29T18:03:48.209933Z"
    },
    "papermill": {
     "duration": 0.946805,
     "end_time": "2021-10-29T18:11:32.793706",
     "exception": false,
     "start_time": "2021-10-29T18:11:31.846901",
     "status": "completed"
    },
    "tags": []
   },
   "outputs": [],
   "source": [
    "import pandas as pd\n",
    "import numpy as np\n",
    "import re\n",
    "import seaborn as sns\n",
    "import matplotlib.pyplot as plt\n",
    "import warnings\n",
    "warnings.simplefilter(\"ignore\")"
   ]
  },
  {
   "cell_type": "code",
   "execution_count": 3,
   "id": "575c13b7",
   "metadata": {
    "execution": {
     "iopub.execute_input": "2021-10-29T18:11:32.838215Z",
     "iopub.status.busy": "2021-10-29T18:11:32.837579Z",
     "iopub.status.idle": "2021-10-29T18:11:33.381433Z",
     "shell.execute_reply": "2021-10-29T18:11:33.380848Z",
     "shell.execute_reply.started": "2021-10-29T18:03:49.066811Z"
    },
    "papermill": {
     "duration": 0.566879,
     "end_time": "2021-10-29T18:11:33.381578",
     "exception": false,
     "start_time": "2021-10-29T18:11:32.814699",
     "status": "completed"
    },
    "tags": []
   },
   "outputs": [
    {
     "data": {
      "text/html": [
       "<div>\n",
       "<style scoped>\n",
       "    .dataframe tbody tr th:only-of-type {\n",
       "        vertical-align: middle;\n",
       "    }\n",
       "\n",
       "    .dataframe tbody tr th {\n",
       "        vertical-align: top;\n",
       "    }\n",
       "\n",
       "    .dataframe thead th {\n",
       "        text-align: right;\n",
       "    }\n",
       "</style>\n",
       "<table border=\"1\" class=\"dataframe\">\n",
       "  <thead>\n",
       "    <tr style=\"text-align: right;\">\n",
       "      <th></th>\n",
       "      <th>Text</th>\n",
       "      <th>language</th>\n",
       "    </tr>\n",
       "  </thead>\n",
       "  <tbody>\n",
       "    <tr>\n",
       "      <th>0</th>\n",
       "      <td>klement gottwaldi surnukeha palsameeriti ning ...</td>\n",
       "      <td>Estonian</td>\n",
       "    </tr>\n",
       "    <tr>\n",
       "      <th>1</th>\n",
       "      <td>sebes joseph pereira thomas  på eng the jesuit...</td>\n",
       "      <td>Swedish</td>\n",
       "    </tr>\n",
       "    <tr>\n",
       "      <th>2</th>\n",
       "      <td>ถนนเจริญกรุง อักษรโรมัน thanon charoen krung เ...</td>\n",
       "      <td>Thai</td>\n",
       "    </tr>\n",
       "    <tr>\n",
       "      <th>3</th>\n",
       "      <td>விசாகப்பட்டினம் தமிழ்ச்சங்கத்தை இந்துப் பத்திர...</td>\n",
       "      <td>Tamil</td>\n",
       "    </tr>\n",
       "    <tr>\n",
       "      <th>4</th>\n",
       "      <td>de spons behoort tot het geslacht haliclona en...</td>\n",
       "      <td>Dutch</td>\n",
       "    </tr>\n",
       "    <tr>\n",
       "      <th>5</th>\n",
       "      <td>エノが行きがかりでバスに乗ってしまい、気分が悪くなった際に助けるが、今すぐバスを降りたいと運...</td>\n",
       "      <td>Japanese</td>\n",
       "    </tr>\n",
       "    <tr>\n",
       "      <th>6</th>\n",
       "      <td>tsutinalar i̇ngilizce tsuutina kanadada albert...</td>\n",
       "      <td>Turkish</td>\n",
       "    </tr>\n",
       "    <tr>\n",
       "      <th>7</th>\n",
       "      <td>müller mox figura centralis circulorum doctoru...</td>\n",
       "      <td>Latin</td>\n",
       "    </tr>\n",
       "    <tr>\n",
       "      <th>8</th>\n",
       "      <td>برقی بار electric charge تمام زیرجوہری ذرات کی...</td>\n",
       "      <td>Urdu</td>\n",
       "    </tr>\n",
       "    <tr>\n",
       "      <th>9</th>\n",
       "      <td>シャーリー・フィールドは、サン・ベルナルド・アベニュー沿い市民センターとrtマーティン高校に...</td>\n",
       "      <td>Japanese</td>\n",
       "    </tr>\n",
       "  </tbody>\n",
       "</table>\n",
       "</div>"
      ],
      "text/plain": [
       "                                                Text  language\n",
       "0  klement gottwaldi surnukeha palsameeriti ning ...  Estonian\n",
       "1  sebes joseph pereira thomas  på eng the jesuit...   Swedish\n",
       "2  ถนนเจริญกรุง อักษรโรมัน thanon charoen krung เ...      Thai\n",
       "3  விசாகப்பட்டினம் தமிழ்ச்சங்கத்தை இந்துப் பத்திர...     Tamil\n",
       "4  de spons behoort tot het geslacht haliclona en...     Dutch\n",
       "5  エノが行きがかりでバスに乗ってしまい、気分が悪くなった際に助けるが、今すぐバスを降りたいと運...  Japanese\n",
       "6  tsutinalar i̇ngilizce tsuutina kanadada albert...   Turkish\n",
       "7  müller mox figura centralis circulorum doctoru...     Latin\n",
       "8  برقی بار electric charge تمام زیرجوہری ذرات کی...      Urdu\n",
       "9  シャーリー・フィールドは、サン・ベルナルド・アベニュー沿い市民センターとrtマーティン高校に...  Japanese"
      ]
     },
     "execution_count": 3,
     "metadata": {},
     "output_type": "execute_result"
    }
   ],
   "source": [
    "data = pd.read_csv(\"../input/language-identification-datasst/dataset.csv\")\n",
    "data.head(10)"
   ]
  },
  {
   "cell_type": "code",
   "execution_count": 4,
   "id": "1dc2665e",
   "metadata": {
    "execution": {
     "iopub.execute_input": "2021-10-29T18:11:33.425531Z",
     "iopub.status.busy": "2021-10-29T18:11:33.424852Z",
     "iopub.status.idle": "2021-10-29T18:11:33.430899Z",
     "shell.execute_reply": "2021-10-29T18:11:33.430280Z",
     "shell.execute_reply.started": "2021-10-29T18:03:49.518403Z"
    },
    "papermill": {
     "duration": 0.029222,
     "end_time": "2021-10-29T18:11:33.431040",
     "exception": false,
     "start_time": "2021-10-29T18:11:33.401818",
     "status": "completed"
    },
    "tags": []
   },
   "outputs": [
    {
     "data": {
      "text/plain": [
       "(22000, 2)"
      ]
     },
     "execution_count": 4,
     "metadata": {},
     "output_type": "execute_result"
    }
   ],
   "source": [
    "data.shape"
   ]
  },
  {
   "cell_type": "code",
   "execution_count": 5,
   "id": "0517b9b8",
   "metadata": {
    "execution": {
     "iopub.execute_input": "2021-10-29T18:11:33.478404Z",
     "iopub.status.busy": "2021-10-29T18:11:33.476432Z",
     "iopub.status.idle": "2021-10-29T18:11:33.479934Z",
     "shell.execute_reply": "2021-10-29T18:11:33.480542Z",
     "shell.execute_reply.started": "2021-10-29T18:03:49.526258Z"
    },
    "papermill": {
     "duration": 0.028373,
     "end_time": "2021-10-29T18:11:33.480703",
     "exception": false,
     "start_time": "2021-10-29T18:11:33.452330",
     "status": "completed"
    },
    "tags": []
   },
   "outputs": [],
   "source": [
    "data=data.iloc[:6000,:]"
   ]
  },
  {
   "cell_type": "code",
   "execution_count": 6,
   "id": "2e66117a",
   "metadata": {
    "execution": {
     "iopub.execute_input": "2021-10-29T18:11:33.524870Z",
     "iopub.status.busy": "2021-10-29T18:11:33.524207Z",
     "iopub.status.idle": "2021-10-29T18:11:33.530040Z",
     "shell.execute_reply": "2021-10-29T18:11:33.529427Z",
     "shell.execute_reply.started": "2021-10-29T18:03:49.539337Z"
    },
    "papermill": {
     "duration": 0.028979,
     "end_time": "2021-10-29T18:11:33.530179",
     "exception": false,
     "start_time": "2021-10-29T18:11:33.501200",
     "status": "completed"
    },
    "tags": []
   },
   "outputs": [
    {
     "data": {
      "text/plain": [
       "(6000, 2)"
      ]
     },
     "execution_count": 6,
     "metadata": {},
     "output_type": "execute_result"
    }
   ],
   "source": [
    "data.shape"
   ]
  },
  {
   "cell_type": "code",
   "execution_count": 7,
   "id": "067600a5",
   "metadata": {
    "execution": {
     "iopub.execute_input": "2021-10-29T18:11:33.581798Z",
     "iopub.status.busy": "2021-10-29T18:11:33.581123Z",
     "iopub.status.idle": "2021-10-29T18:11:33.586677Z",
     "shell.execute_reply": "2021-10-29T18:11:33.587286Z",
     "shell.execute_reply.started": "2021-10-29T18:03:49.551181Z"
    },
    "papermill": {
     "duration": 0.036219,
     "end_time": "2021-10-29T18:11:33.587471",
     "exception": false,
     "start_time": "2021-10-29T18:11:33.551252",
     "status": "completed"
    },
    "tags": []
   },
   "outputs": [
    {
     "data": {
      "text/plain": [
       "Russian       288\n",
       "Persian       285\n",
       "Japanese      284\n",
       "Arabic        278\n",
       "Swedish       278\n",
       "Hindi         278\n",
       "Turkish       278\n",
       "French        276\n",
       "Dutch         275\n",
       "English       275\n",
       "Indonesian    274\n",
       "Thai          274\n",
       "Portugese     273\n",
       "Korean        270\n",
       "Spanish       270\n",
       "Tamil         270\n",
       "Pushto        269\n",
       "Estonian      267\n",
       "Urdu          263\n",
       "Latin         261\n",
       "Chinese       259\n",
       "Romanian      255\n",
       "Name: language, dtype: int64"
      ]
     },
     "execution_count": 7,
     "metadata": {},
     "output_type": "execute_result"
    }
   ],
   "source": [
    "data[\"language\"].value_counts()"
   ]
  },
  {
   "cell_type": "code",
   "execution_count": 8,
   "id": "3c9fe806",
   "metadata": {
    "execution": {
     "iopub.execute_input": "2021-10-29T18:11:33.632791Z",
     "iopub.status.busy": "2021-10-29T18:11:33.632160Z",
     "iopub.status.idle": "2021-10-29T18:11:33.635712Z",
     "shell.execute_reply": "2021-10-29T18:11:33.636318Z",
     "shell.execute_reply.started": "2021-10-29T18:03:49.571214Z"
    },
    "papermill": {
     "duration": 0.027938,
     "end_time": "2021-10-29T18:11:33.636501",
     "exception": false,
     "start_time": "2021-10-29T18:11:33.608563",
     "status": "completed"
    },
    "tags": []
   },
   "outputs": [],
   "source": [
    "X = data[\"Text\"]\n",
    "y = data[\"language\"]"
   ]
  },
  {
   "cell_type": "code",
   "execution_count": 9,
   "id": "0ba71aa2",
   "metadata": {
    "execution": {
     "iopub.execute_input": "2021-10-29T18:11:33.683393Z",
     "iopub.status.busy": "2021-10-29T18:11:33.681841Z",
     "iopub.status.idle": "2021-10-29T18:11:33.800276Z",
     "shell.execute_reply": "2021-10-29T18:11:33.799661Z",
     "shell.execute_reply.started": "2021-10-29T18:03:49.582409Z"
    },
    "papermill": {
     "duration": 0.142544,
     "end_time": "2021-10-29T18:11:33.800429",
     "exception": false,
     "start_time": "2021-10-29T18:11:33.657885",
     "status": "completed"
    },
    "tags": []
   },
   "outputs": [],
   "source": [
    "from sklearn.preprocessing import LabelEncoder\n",
    "le = LabelEncoder()\n",
    "y = le.fit_transform(y)"
   ]
  },
  {
   "cell_type": "code",
   "execution_count": 10,
   "id": "8f521fad",
   "metadata": {
    "execution": {
     "iopub.execute_input": "2021-10-29T18:11:33.853453Z",
     "iopub.status.busy": "2021-10-29T18:11:33.852787Z",
     "iopub.status.idle": "2021-10-29T18:11:33.955937Z",
     "shell.execute_reply": "2021-10-29T18:11:33.955275Z",
     "shell.execute_reply.started": "2021-10-29T18:03:49.705763Z"
    },
    "papermill": {
     "duration": 0.133467,
     "end_time": "2021-10-29T18:11:33.956076",
     "exception": false,
     "start_time": "2021-10-29T18:11:33.822609",
     "status": "completed"
    },
    "tags": []
   },
   "outputs": [],
   "source": [
    "data_list = []\n",
    "\n",
    "for text in X:\n",
    "       \n",
    "        text = re.sub(r'[!@#$(),n\"%^*?:;~`0-9]', ' ', text)\n",
    "        text = re.sub(r'[[]]', ' ', text)\n",
    "        \n",
    "        text = text.lower()\n",
    "        data_list.append(text)"
   ]
  },
  {
   "cell_type": "code",
   "execution_count": 11,
   "id": "b28259fa",
   "metadata": {
    "execution": {
     "iopub.execute_input": "2021-10-29T18:11:34.005453Z",
     "iopub.status.busy": "2021-10-29T18:11:34.004602Z",
     "iopub.status.idle": "2021-10-29T18:11:35.393969Z",
     "shell.execute_reply": "2021-10-29T18:11:35.393230Z",
     "shell.execute_reply.started": "2021-10-29T18:03:49.817786Z"
    },
    "papermill": {
     "duration": 1.41557,
     "end_time": "2021-10-29T18:11:35.394116",
     "exception": false,
     "start_time": "2021-10-29T18:11:33.978546",
     "status": "completed"
    },
    "tags": []
   },
   "outputs": [
    {
     "data": {
      "text/plain": [
       "(6000, 102337)"
      ]
     },
     "execution_count": 11,
     "metadata": {},
     "output_type": "execute_result"
    }
   ],
   "source": [
    "from sklearn.feature_extraction.text import CountVectorizer\n",
    "cv = CountVectorizer()\n",
    "X = cv.fit_transform(data_list).toarray()\n",
    "X.shape"
   ]
  },
  {
   "cell_type": "code",
   "execution_count": 12,
   "id": "80a19f18",
   "metadata": {
    "execution": {
     "iopub.execute_input": "2021-10-29T18:11:35.443075Z",
     "iopub.status.busy": "2021-10-29T18:11:35.442164Z",
     "iopub.status.idle": "2021-10-29T18:11:38.578937Z",
     "shell.execute_reply": "2021-10-29T18:11:38.578257Z",
     "shell.execute_reply.started": "2021-10-29T18:03:51.213219Z"
    },
    "papermill": {
     "duration": 3.16323,
     "end_time": "2021-10-29T18:11:38.579078",
     "exception": false,
     "start_time": "2021-10-29T18:11:35.415848",
     "status": "completed"
    },
    "tags": []
   },
   "outputs": [],
   "source": [
    "from sklearn.model_selection import train_test_split \n",
    "x_train, x_test, y_train, y_test = train_test_split(X, y, test_size = 0.20)"
   ]
  },
  {
   "cell_type": "code",
   "execution_count": 13,
   "id": "d9f10413",
   "metadata": {
    "execution": {
     "iopub.execute_input": "2021-10-29T18:11:38.626502Z",
     "iopub.status.busy": "2021-10-29T18:11:38.625814Z",
     "iopub.status.idle": "2021-10-29T18:12:50.484460Z",
     "shell.execute_reply": "2021-10-29T18:12:50.484995Z",
     "shell.execute_reply.started": "2021-10-29T18:03:54.409593Z"
    },
    "papermill": {
     "duration": 71.884267,
     "end_time": "2021-10-29T18:12:50.485177",
     "exception": false,
     "start_time": "2021-10-29T18:11:38.600910",
     "status": "completed"
    },
    "tags": []
   },
   "outputs": [
    {
     "data": {
      "text/plain": [
       "MultinomialNB()"
      ]
     },
     "execution_count": 13,
     "metadata": {},
     "output_type": "execute_result"
    }
   ],
   "source": [
    "from sklearn.naive_bayes import MultinomialNB\n",
    "model = MultinomialNB()\n",
    "model.fit(x_train, y_train)"
   ]
  },
  {
   "cell_type": "code",
   "execution_count": 14,
   "id": "4e72e53e",
   "metadata": {
    "execution": {
     "iopub.execute_input": "2021-10-29T18:12:50.534099Z",
     "iopub.status.busy": "2021-10-29T18:12:50.533347Z",
     "iopub.status.idle": "2021-10-29T18:12:51.215971Z",
     "shell.execute_reply": "2021-10-29T18:12:51.216958Z",
     "shell.execute_reply.started": "2021-10-29T18:05:05.358362Z"
    },
    "papermill": {
     "duration": 0.710396,
     "end_time": "2021-10-29T18:12:51.217250",
     "exception": false,
     "start_time": "2021-10-29T18:12:50.506854",
     "status": "completed"
    },
    "tags": []
   },
   "outputs": [],
   "source": [
    "y_pred = model.predict(x_test)"
   ]
  },
  {
   "cell_type": "code",
   "execution_count": 15,
   "id": "55746a3a",
   "metadata": {
    "execution": {
     "iopub.execute_input": "2021-10-29T18:12:51.307771Z",
     "iopub.status.busy": "2021-10-29T18:12:51.306482Z",
     "iopub.status.idle": "2021-10-29T18:12:51.323539Z",
     "shell.execute_reply": "2021-10-29T18:12:51.325059Z",
     "shell.execute_reply.started": "2021-10-29T18:05:06.040503Z"
    },
    "papermill": {
     "duration": 0.068231,
     "end_time": "2021-10-29T18:12:51.325356",
     "exception": false,
     "start_time": "2021-10-29T18:12:51.257125",
     "status": "completed"
    },
    "tags": []
   },
   "outputs": [
    {
     "name": "stdout",
     "output_type": "stream",
     "text": [
      "Accuracy is : 0.9333333333333333\n"
     ]
    }
   ],
   "source": [
    "from sklearn.metrics import accuracy_score, confusion_matrix, classification_report\n",
    "ac = accuracy_score(y_test, y_pred)\n",
    "cm = confusion_matrix(y_test, y_pred)\n",
    "\n",
    "print(\"Accuracy is :\",ac)"
   ]
  },
  {
   "cell_type": "code",
   "execution_count": 16,
   "id": "e15d4e83",
   "metadata": {
    "execution": {
     "iopub.execute_input": "2021-10-29T18:12:51.376591Z",
     "iopub.status.busy": "2021-10-29T18:12:51.375503Z",
     "iopub.status.idle": "2021-10-29T18:12:53.255549Z",
     "shell.execute_reply": "2021-10-29T18:12:53.256056Z",
     "shell.execute_reply.started": "2021-10-29T18:05:06.057353Z"
    },
    "papermill": {
     "duration": 1.906941,
     "end_time": "2021-10-29T18:12:53.256235",
     "exception": false,
     "start_time": "2021-10-29T18:12:51.349294",
     "status": "completed"
    },
    "tags": []
   },
   "outputs": [
    {
     "data": {
      "image/png": "[encoded data removed]",
      "text/plain": [
       "<Figure size 1080x720 with 2 Axes>"
      ]
     },
     "metadata": {
      "needs_background": "light"
     },
     "output_type": "display_data"
    }
   ],
   "source": [
    "plt.figure(figsize=(15,10))\n",
    "sns.heatmap(cm, annot = True)\n",
    "plt.show()"
   ]
  },
  {
   "cell_type": "code",
   "execution_count": 17,
   "id": "5b0d4758",
   "metadata": {
    "execution": {
     "iopub.execute_input": "2021-10-29T18:12:53.309364Z",
     "iopub.status.busy": "2021-10-29T18:12:53.308326Z",
     "iopub.status.idle": "2021-10-29T18:12:53.313840Z",
     "shell.execute_reply": "2021-10-29T18:12:53.314375Z",
     "shell.execute_reply.started": "2021-10-29T18:05:08.001469Z"
    },
    "papermill": {
     "duration": 0.03427,
     "end_time": "2021-10-29T18:12:53.314568",
     "exception": false,
     "start_time": "2021-10-29T18:12:53.280298",
     "status": "completed"
    },
    "tags": []
   },
   "outputs": [],
   "source": [
    "def predict(text):\n",
    "     x = cv.transform([text]).toarray() # converting text to bag of words model (Vector)\n",
    "     lang = model.predict(x) # predicting the language\n",
    "     lang = le.inverse_transform(lang) # finding the language corresponding the the predicted value\n",
    "     print(\"The langauge is in\",lang[0])"
   ]
  },
  {
   "cell_type": "code",
   "execution_count": 18,
   "id": "f63b6341",
   "metadata": {
    "execution": {
     "iopub.execute_input": "2021-10-29T18:12:53.366925Z",
     "iopub.status.busy": "2021-10-29T18:12:53.365797Z",
     "iopub.status.idle": "2021-10-29T18:12:53.378704Z",
     "shell.execute_reply": "2021-10-29T18:12:53.379641Z",
     "shell.execute_reply.started": "2021-10-29T18:05:47.557689Z"
    },
    "papermill": {
     "duration": 0.041654,
     "end_time": "2021-10-29T18:12:53.379922",
     "exception": false,
     "start_time": "2021-10-29T18:12:53.338268",
     "status": "completed"
    },
    "tags": []
   },
   "outputs": [
    {
     "name": "stdout",
     "output_type": "stream",
     "text": [
      "The langauge is in English\n"
     ]
    }
   ],
   "source": [
    "predict(\"my name is zisun\")"
   ]
  },
  {
   "cell_type": "code",
   "execution_count": 19,
   "id": "b99e834c",
   "metadata": {
    "execution": {
     "iopub.execute_input": "2021-10-29T18:12:53.483176Z",
     "iopub.status.busy": "2021-10-29T18:12:53.481227Z",
     "iopub.status.idle": "2021-10-29T18:12:53.486095Z",
     "shell.execute_reply": "2021-10-29T18:12:53.482186Z",
     "shell.execute_reply.started": "2021-10-29T18:07:20.203714Z"
    },
    "papermill": {
     "duration": 0.061705,
     "end_time": "2021-10-29T18:12:53.486331",
     "exception": false,
     "start_time": "2021-10-29T18:12:53.424626",
     "status": "completed"
    },
    "tags": []
   },
   "outputs": [
    {
     "name": "stdout",
     "output_type": "stream",
     "text": [
      "The langauge is in Spanish\n"
     ]
    }
   ],
   "source": [
    "predict(\"mi nombre es zisun\")"
   ]
  },
  {
   "cell_type": "code",
   "execution_count": 20,
   "id": "2a1397da",
   "metadata": {
    "execution": {
     "iopub.execute_input": "2021-10-29T18:12:53.589492Z",
     "iopub.status.busy": "2021-10-29T18:12:53.587436Z",
     "iopub.status.idle": "2021-10-29T18:12:53.592365Z",
     "shell.execute_reply": "2021-10-29T18:12:53.588543Z",
     "shell.execute_reply.started": "2021-10-29T18:07:48.157366Z"
    },
    "papermill": {
     "duration": 0.062162,
     "end_time": "2021-10-29T18:12:53.592627",
     "exception": false,
     "start_time": "2021-10-29T18:12:53.530465",
     "status": "completed"
    },
    "tags": []
   },
   "outputs": [
    {
     "name": "stdout",
     "output_type": "stream",
     "text": [
      "The langauge is in Tamil\n"
     ]
    }
   ],
   "source": [
    "predict(\"என் பெயர் ஜிசுன்\")"
   ]
  },
  {
   "cell_type": "code",
   "execution_count": 21,
   "id": "dfca246f",
   "metadata": {
    "execution": {
     "iopub.execute_input": "2021-10-29T18:12:53.697726Z",
     "iopub.status.busy": "2021-10-29T18:12:53.696584Z",
     "iopub.status.idle": "2021-10-29T18:12:53.703566Z",
     "shell.execute_reply": "2021-10-29T18:12:53.704623Z",
     "shell.execute_reply.started": "2021-10-29T18:08:45.544208Z"
    },
    "papermill": {
     "duration": 0.066255,
     "end_time": "2021-10-29T18:12:53.704963",
     "exception": false,
     "start_time": "2021-10-29T18:12:53.638708",
     "status": "completed"
    },
    "tags": []
   },
   "outputs": [
    {
     "name": "stdout",
     "output_type": "stream",
     "text": [
      "The langauge is in Swedish\n"
     ]
    }
   ],
   "source": [
    "predict(\"mitt namn är zisun\")"
   ]
  },
  {
   "cell_type": "code",
   "execution_count": 22,
   "id": "0f3cbd0c",
   "metadata": {
    "execution": {
     "iopub.execute_input": "2021-10-29T18:12:53.812086Z",
     "iopub.status.busy": "2021-10-29T18:12:53.810921Z",
     "iopub.status.idle": "2021-10-29T18:12:53.817591Z",
     "shell.execute_reply": "2021-10-29T18:12:53.818477Z",
     "shell.execute_reply.started": "2021-10-29T18:09:13.283355Z"
    },
    "papermill": {
     "duration": 0.066718,
     "end_time": "2021-10-29T18:12:53.818751",
     "exception": false,
     "start_time": "2021-10-29T18:12:53.752033",
     "status": "completed"
    },
    "tags": []
   },
   "outputs": [
    {
     "name": "stdout",
     "output_type": "stream",
     "text": [
      "The langauge is in Korean\n"
     ]
    }
   ],
   "source": [
    "predict(\"내 이름은 zisun\")"
   ]
  },
  {
   "cell_type": "code",
   "execution_count": 23,
   "id": "5b164106",
   "metadata": {
    "execution": {
     "iopub.execute_input": "2021-10-29T18:12:53.929689Z",
     "iopub.status.busy": "2021-10-29T18:12:53.928511Z",
     "iopub.status.idle": "2021-10-29T18:12:53.936097Z",
     "shell.execute_reply": "2021-10-29T18:12:53.937075Z",
     "shell.execute_reply.started": "2021-10-29T18:11:03.757515Z"
    },
    "papermill": {
     "duration": 0.069836,
     "end_time": "2021-10-29T18:12:53.937391",
     "exception": false,
     "start_time": "2021-10-29T18:12:53.867555",
     "status": "completed"
    },
    "tags": []
   },
   "outputs": [
    {
     "name": "stdout",
     "output_type": "stream",
     "text": [
      "The langauge is in Russian\n"
     ]
    }
   ],
   "source": [
    "predict(\"меня зовут цисун\")"
   ]
  }
 ],
 "metadata": {
  "kernelspec": {
   "display_name": "Python 3 (ipykernel)",
   "language": "python",
   "name": "python3"
  },
  "language_info": {
   "codemirror_mode": {
    "name": "ipython",
    "version": 3
   },
   "file_extension": ".py",
   "mimetype": "text/x-python",
   "name": "python",
   "nbconvert_exporter": "python",
   "pygments_lexer": "ipython3",
   "version": "3.11.7"
  },
  "papermill": {
   "default_parameters": {},
   "duration": 92.628997,
   "end_time": "2021-10-29T18:12:54.806032",
   "environment_variables": {},
   "exception": null,
   "input_path": "__notebook__.ipynb",
   "output_path": "__notebook__.ipynb",
   "parameters": {},
   "start_time": "2021-10-29T18:11:22.177035",
   "version": "2.3.3"
  },
  "widgets": {
   "application/vnd.jupyter.widget-state+json": {
    "state": {},
    "version_major": 2,
    "version_minor": 0
   }
  }
 },
 "nbformat": 4,
 "nbformat_minor": 5
}
