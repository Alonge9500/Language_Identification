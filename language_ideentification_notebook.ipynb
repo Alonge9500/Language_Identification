{
 "cells": [
  {
   "cell_type": "markdown",
   "id": "88f092cd-4a02-453e-bbde-57b772bf0089",
   "metadata": {},
   "source": [
    "* Data Name : Wili 2018\n",
    "* Source: Kaggle [https://www.kaggle.com/datasets/sharansmenon/wili-2018?select=data.csv]\n",
    "* The main language data. Contains about 200k instances for 235 languages\r\n",
    "\r\n"
   ]
  },
  {
   "cell_type": "code",
   "execution_count": 1,
   "id": "bc88cd98-5e43-4755-865c-15c62ed23341",
   "metadata": {},
   "outputs": [],
   "source": [
    "#Load Libraries\n",
    "import pandas as pd\n",
    "import numpy as np\n",
    "import seaborn as sns\n",
    "import matplotlib.pyplot as plt\n",
    "from sklearn.feature_extraction.text import TfidfVectorizer\n",
    "from sklearn.preprocessing import LabelEncoder\n",
    "from sklearn.model_selection import train_test_split \n",
    "from sklearn.naive_bayes import MultinomialNB\n",
    "from sklearn.linear_model import LogisticRegression\n",
    "from sklearn.ensemble import RandomForestClassifier\n",
    "from sklearn.metrics import classification_report, f1_score, recall_score, precision_score\n",
    "from sklearn.model_selection import GridSearchCV\n",
    "import pickle\n",
    "import time\n"
   ]
  },
  {
   "cell_type": "markdown",
   "id": "d3821245-9fae-4528-99f0-bf98e314462c",
   "metadata": {},
   "source": [
    "## Load Data"
   ]
  },
  {
   "cell_type": "code",
   "execution_count": 13,
   "id": "fd0f1d87-f43a-46a1-80c4-52ac7de005cc",
   "metadata": {},
   "outputs": [],
   "source": [
    "main_data = pd.read_csv('data.csv')"
   ]
  },
  {
   "cell_type": "code",
   "execution_count": 14,
   "id": "e375d41b-f540-4367-b352-8772670f3dea",
   "metadata": {},
   "outputs": [
    {
     "data": {
      "text/html": [
       "<div>\n",
       "<style scoped>\n",
       "    .dataframe tbody tr th:only-of-type {\n",
       "        vertical-align: middle;\n",
       "    }\n",
       "\n",
       "    .dataframe tbody tr th {\n",
       "        vertical-align: top;\n",
       "    }\n",
       "\n",
       "    .dataframe thead th {\n",
       "        text-align: right;\n",
       "    }\n",
       "</style>\n",
       "<table border=\"1\" class=\"dataframe\">\n",
       "  <thead>\n",
       "    <tr style=\"text-align: right;\">\n",
       "      <th></th>\n",
       "      <th>text</th>\n",
       "      <th>class</th>\n",
       "    </tr>\n",
       "  </thead>\n",
       "  <tbody>\n",
       "    <tr>\n",
       "      <th>0</th>\n",
       "      <td>Klement Gottwaldi surnukeha palsameeriti ning ...</td>\n",
       "      <td>est\\n</td>\n",
       "    </tr>\n",
       "    <tr>\n",
       "      <th>1</th>\n",
       "      <td>Sebes, Joseph; Pereira Thomas (1961) (på eng)....</td>\n",
       "      <td>swe\\n</td>\n",
       "    </tr>\n",
       "    <tr>\n",
       "      <th>2</th>\n",
       "      <td>भारतीय स्वातन्त्र्य आन्दोलन राष्ट्रीय एवम क्षे...</td>\n",
       "      <td>mai\\n</td>\n",
       "    </tr>\n",
       "    <tr>\n",
       "      <th>3</th>\n",
       "      <td>Après lo cort periòde d'establiment a Basilèa,...</td>\n",
       "      <td>oci\\n</td>\n",
       "    </tr>\n",
       "    <tr>\n",
       "      <th>4</th>\n",
       "      <td>ถนนเจริญกรุง (อักษรโรมัน: Thanon Charoen Krung...</td>\n",
       "      <td>tha\\n</td>\n",
       "    </tr>\n",
       "  </tbody>\n",
       "</table>\n",
       "</div>"
      ],
      "text/plain": [
       "                                                text  class\n",
       "0  Klement Gottwaldi surnukeha palsameeriti ning ...  est\\n\n",
       "1  Sebes, Joseph; Pereira Thomas (1961) (på eng)....  swe\\n\n",
       "2  भारतीय स्वातन्त्र्य आन्दोलन राष्ट्रीय एवम क्षे...  mai\\n\n",
       "3  Après lo cort periòde d'establiment a Basilèa,...  oci\\n\n",
       "4  ถนนเจริญกรุง (อักษรโรมัน: Thanon Charoen Krung...  tha\\n"
      ]
     },
     "execution_count": 14,
     "metadata": {},
     "output_type": "execute_result"
    }
   ],
   "source": [
    "main_data.head()"
   ]
  },
  {
   "cell_type": "markdown",
   "id": "9d8f4d89-7a05-424f-97ab-b30ba15fa3f0",
   "metadata": {},
   "source": [
    "## Data Cleaning\n",
    "* Remove Escape strings at the end of the Data\n"
   ]
  },
  {
   "cell_type": "code",
   "execution_count": 15,
   "id": "0d2abd85-b55d-4d47-a2d4-dac06fdc8f21",
   "metadata": {},
   "outputs": [],
   "source": [
    "def clean_data(dataframe: pd.DataFrame) -> pd.DataFrame:\n",
    "    \"\"\"\n",
    "    Parameters: dataframe(pd.DataFrame): Main Downloaded Data\n",
    "\n",
    "    Return: pd.DataFrame (A Clean Version of Data Frame)\n",
    "    \n",
    "    \"\"\"\n",
    "    dataframe['class'] = dataframe['class'].apply(lambda x: x[:-1])\n",
    "\n",
    "    print('Cleaning Completeed')\n",
    "    return(dataframe)\n",
    "    \n",
    "    "
   ]
  },
  {
   "cell_type": "code",
   "execution_count": null,
   "id": "7efcac6b-1776-4d7a-95b6-c26e16c52af6",
   "metadata": {},
   "outputs": [],
   "source": []
  },
  {
   "cell_type": "markdown",
   "id": "1816eebc-f58e-4636-9d4b-6d1f105dd68d",
   "metadata": {},
   "source": [
    "## Data PreProcesing\n",
    "* Select only data label to Afrikaans, Spanish and German only\n",
    "* Feature Extraction (TF-IDF- Term Frequency-Inverse Document Frequency)"
   ]
  },
  {
   "cell_type": "code",
   "execution_count": 16,
   "id": "c5a45e79-709f-4ec1-8bb8-050e5975f2fe",
   "metadata": {},
   "outputs": [],
   "source": [
    "def extract_selected_language(dataframe: pd.DataFrame) -> pd.DataFrame:\n",
    "    \"\"\"\n",
    "    Parameters: dataframe(pd.DataFrame) -> Main Data Frame containing all Data \n",
    "\n",
    "    Returns: pd.DataFrame -> A Dataframe containing only Afrikaans, Spanish, German, Alemannic German\n",
    "\n",
    "    \"\"\"\n",
    "    extracted_data = dataframe[(dataframe['class'] == 'afr') | (dataframe['class'] == 'spa') | (dataframe['class'] == 'als') | (dataframe['class'] == 'deu')]\n",
    "    print('Succesfully Extracted Data')\n",
    "    return extracted_data\n",
    "\n",
    "\n",
    "def save_extracted_data_to_csv(dataframe: pd.DataFrame) -> None:\n",
    "    \"\"\"\n",
    "    Parameters: dataframe(pd.DataFrame) -> Dataframe of already extracted languages\n",
    "\n",
    "    Save The Data to a csv file\n",
    "    \n",
    "    \"\"\"\n",
    "    dataframe.to_csv('data_folder/extracted_data.csv', index=False)\n",
    "    print('Succesfully Saved To Csv')"
   ]
  },
  {
   "cell_type": "code",
   "execution_count": 21,
   "id": "5caf4eac-f8e9-41b9-a002-e780d409cf4f",
   "metadata": {},
   "outputs": [
    {
     "name": "stdout",
     "output_type": "stream",
     "text": [
      "Cleaning Completeed\n",
      "Succesfully Extracted Data\n",
      "Succesfully Saved To Csv\n"
     ]
    }
   ],
   "source": [
    "#Extracting and Saving Data\n",
    "data = extract_selected_language(clean_data(main_data))\n",
    "save_extracted_data_to_csv(data)"
   ]
  },
  {
   "cell_type": "code",
   "execution_count": 80,
   "id": "534c7697-12a7-4baa-912c-e937bab36a5a",
   "metadata": {},
   "outputs": [
    {
     "data": {
      "text/html": [
       "<div>\n",
       "<style scoped>\n",
       "    .dataframe tbody tr th:only-of-type {\n",
       "        vertical-align: middle;\n",
       "    }\n",
       "\n",
       "    .dataframe tbody tr th {\n",
       "        vertical-align: top;\n",
       "    }\n",
       "\n",
       "    .dataframe thead th {\n",
       "        text-align: right;\n",
       "    }\n",
       "</style>\n",
       "<table border=\"1\" class=\"dataframe\">\n",
       "  <thead>\n",
       "    <tr style=\"text-align: right;\">\n",
       "      <th></th>\n",
       "      <th>text</th>\n",
       "      <th>class</th>\n",
       "    </tr>\n",
       "  </thead>\n",
       "  <tbody>\n",
       "    <tr>\n",
       "      <th>0</th>\n",
       "      <td>Uf di hitig Greßi isch s schließlig anne 1998 ...</td>\n",
       "      <td>als</td>\n",
       "    </tr>\n",
       "    <tr>\n",
       "      <th>1</th>\n",
       "      <td>En Navidad de 1974, poco después de que interp...</td>\n",
       "      <td>spa</td>\n",
       "    </tr>\n",
       "    <tr>\n",
       "      <th>2</th>\n",
       "      <td>1499: D Schlacht im Schwaderloh im Thurgau goh...</td>\n",
       "      <td>als</td>\n",
       "    </tr>\n",
       "    <tr>\n",
       "      <th>3</th>\n",
       "      <td>Die geelblom (Cineraria saxifraga) is 'n klein...</td>\n",
       "      <td>afr</td>\n",
       "    </tr>\n",
       "    <tr>\n",
       "      <th>4</th>\n",
       "      <td>Talle van mense, dikwels uit geïsoleerde gemee...</td>\n",
       "      <td>afr</td>\n",
       "    </tr>\n",
       "  </tbody>\n",
       "</table>\n",
       "</div>"
      ],
      "text/plain": [
       "                                                text class\n",
       "0  Uf di hitig Greßi isch s schließlig anne 1998 ...   als\n",
       "1  En Navidad de 1974, poco después de que interp...   spa\n",
       "2  1499: D Schlacht im Schwaderloh im Thurgau goh...   als\n",
       "3  Die geelblom (Cineraria saxifraga) is 'n klein...   afr\n",
       "4  Talle van mense, dikwels uit geïsoleerde gemee...   afr"
      ]
     },
     "execution_count": 80,
     "metadata": {},
     "output_type": "execute_result"
    }
   ],
   "source": [
    "#Preview Extracted Data\n",
    "extracted_data = pd.read_csv('./data_folder/extracted_data.csv')\n",
    "extracted_data.head()"
   ]
  },
  {
   "cell_type": "markdown",
   "id": "605c5942-f700-47af-81f5-c1fb6948d723",
   "metadata": {},
   "source": [
    "### Data Visualization\n",
    "* The Class for each category is evenly distributed across with each class having 1000 datapoints"
   ]
  },
  {
   "cell_type": "code",
   "execution_count": 77,
   "id": "018b2acd-bfe8-4615-abd8-b19ae0a60af2",
   "metadata": {},
   "outputs": [
    {
     "data": {
      "image/png": "[encoded data removed]",
      "text/plain": [
       "<Figure size 640x480 with 1 Axes>"
      ]
     },
     "metadata": {},
     "output_type": "display_data"
    }
   ],
   "source": [
    "sns.countplot(x= 'class', data = extracted_data)\n",
    "plt.show()"
   ]
  },
  {
   "cell_type": "code",
   "execution_count": 23,
   "id": "cf22fb05-9caa-402e-8358-91de680138df",
   "metadata": {},
   "outputs": [],
   "source": [
    "def feature_extraction_et_label_encoding(dataframe: pd.DataFrame) -> list:\n",
    "    \"\"\"\n",
    "    Parameters:  dataframe: pd.DataFrame -> Data frame of selected language\n",
    "\n",
    "    Return: A list [text_vectors, language_label, language_label_mapping]\n",
    "\n",
    "    Receive a Dataframe and perform the following operations\n",
    "    * Split to Features and Labels\n",
    "    * Perform Labeel Encoding on the Label Section\n",
    "    * Perform Feature Extarction usinf TfIDF on the feature Section\n",
    "    * Extract Label Mapping\n",
    "    * Return A list Containing The Vectors, Labels and Label Mapping\n",
    "    \n",
    "    \"\"\"\n",
    "\n",
    "    # Split Data to Texts and Labels\n",
    "    texts = dataframe.text\n",
    "    language_label = dataframe['class']\n",
    "    \n",
    "    #Encoding\n",
    "    label_encoder = LabelEncoder() # initialize Encoder\n",
    "    language_label= label_encoder.fit_transform(language_label)\n",
    "    language_label_mapping = dict(zip(label_encoder.classes_,\n",
    "                                     label_encoder.transform(label_encoder.classes_)))\n",
    "\n",
    "    print('Label Encoding Completeed')\n",
    "\n",
    "    # Save Encoding Dictionary\n",
    "    with open('pickles/language_label_mapping.pkl','wb') as file0:\n",
    "        pickle.dump(language_label_mapping, file0)\n",
    "    \n",
    "    #Vectorization\n",
    "    tfidf_vectorizer = TfidfVectorizer() # Initialize the Vectorizer\n",
    "\n",
    "    tfidf_text_vectors = tfidf_vectorizer.fit_transform(texts).toarray()\n",
    "    print('Vectorization Complete')\n",
    "    \n",
    "    # Save Vectorizer\n",
    "    with open('pickles/tfidf_vectorizer.pkl','wb') as file:\n",
    "        pickle.dump(tfidf_vectorizer, file)\n",
    "    print('Vectorizer Saved to pickles folder')\n",
    "    \n",
    "    print('Encoding And Preprocessing Completed')\n",
    "    return [tfidf_text_vectors,language_label,language_label_mapping]"
   ]
  },
  {
   "cell_type": "code",
   "execution_count": 24,
   "id": "bba79929-0d2d-42b3-acef-37a53398c5d5",
   "metadata": {},
   "outputs": [
    {
     "name": "stdout",
     "output_type": "stream",
     "text": [
      "Label Encoding Completeed\n",
      "Vectorization Complete\n",
      "Vectorizer Saved to pickles folder\n",
      "Encoding And Preprocessing Completed\n"
     ]
    }
   ],
   "source": [
    "#Encoding and Vectorizing\n",
    "vectors, label, mapping = feature_extraction_et_label_encoding(extracted_data)"
   ]
  },
  {
   "cell_type": "markdown",
   "id": "c9041d59-c7e3-430a-bfbc-8bcec1f7e15f",
   "metadata": {},
   "source": [
    "### Spliting Data"
   ]
  },
  {
   "cell_type": "code",
   "execution_count": 67,
   "id": "4abd5c96-0c16-42b5-8400-13f471a45927",
   "metadata": {},
   "outputs": [],
   "source": [
    "def split_data(vectors: pd.Series, label: pd.Series) -> tuple:\n",
    "    \"\"\"\n",
    "    Parameters vectors(pd.Series) label(pd.Series)\n",
    "\n",
    "    Return: A tupple of the split features\n",
    "\n",
    "    Split Data into Train and test features with 30 Percent to test and 70 to training\n",
    "    \n",
    "    \"\"\"\n",
    "    train_features, test_val_features, train_label, test_val_label = train_test_split(vectors,\n",
    "                                                                              label,\n",
    "                                                                              test_size=0.30, \n",
    "                                                                              random_state=3)\n",
    "\n",
    "    test_features, val_features, test_label, val_label = train_test_split(test_val_features,\n",
    "                                                                              test_val_label,\n",
    "                                                                              test_size=0.33, \n",
    "                                                                              random_state=3)\n",
    "    print('Data Splitted successfully to Training, Testing and Validation set')\n",
    "    return train_features,test_features,val_features,train_label,test_label,val_label\n",
    "    \n"
   ]
  },
  {
   "cell_type": "code",
   "execution_count": 68,
   "id": "38cda91d-8f13-4e72-a266-03f7c6be588f",
   "metadata": {},
   "outputs": [],
   "source": [
    "def train_models(train_features: pd.Series,\n",
    "                 test_features: pd.Series,\n",
    "                 train_label: pd.Series,\n",
    "                 test_label: pd.Series):\n",
    "\n",
    "    \"\"\"\n",
    "    Parameters : \n",
    "    train_features -> features to be use in training (pd.Series)\n",
    "    test_features -> features for training (pd.Series)\n",
    "    train_labels -> training labels (pd.Series)\n",
    "    test_labels -> testing labels (pd.Series)\n",
    "    Return A tupple for the prediction of all Models\n",
    "\n",
    "    Train 3 Language Identification Models\n",
    "    \n",
    "    \"\"\"\n",
    "    #Models Initialization\n",
    "    naive_bayes_model = MultinomialNB() # Naive Bayes\n",
    "    logistic_regression_model = LogisticRegression() # Logistic Regression\n",
    "    random_forest_classifier_model = RandomForestClassifier() # Random Forest Classifier\n",
    "    print('Models Initialization Completed')\n",
    "    \n",
    "\n",
    "    #Models Training\n",
    "    start_time = time.time()\n",
    "    naive_bayes_model.fit(train_features, train_label)\n",
    "    end_time = time.time()\n",
    "    time_taken = end_time - start_time\n",
    "    print(f'Naive Bayes Completed time taken is {time_taken:.2f} seconds')\n",
    "    \n",
    "    start_time = time.time()\n",
    "    logistic_regression_model.fit(train_features, train_label)\n",
    "    end_time = time.time()\n",
    "    time_taken = end_time - start_time\n",
    "    print(f'Logistic Regression Completed time taken is {time_taken:.2f} seconds')\n",
    "\n",
    "\n",
    "    start_time = time.time()\n",
    "    random_forest_classifier_model.fit(train_features, train_label)\n",
    "    end_time = time.time()\n",
    "    time_taken = end_time - start_time\n",
    "    print(f'Random Forest Completed time taken is {time_taken:.2f} seconds')\n",
    "    \n",
    "    print('Models Training Completed')\n",
    "\n",
    "    #Models Predictions\n",
    "    naive_bayes_model_prediction = naive_bayes_model.predict(test_features)\n",
    "    logistic_regression_model_prediction = logistic_regression_model.predict(test_features)\n",
    "    random_forest_classifier_model_prediction = random_forest_classifier_model.predict(test_features)\n",
    "    print('Models Predictions Complete')\n",
    "\n",
    "\n",
    "    return naive_bayes_model_prediction, logistic_regression_model_prediction, random_forest_classifier_model_prediction\n",
    "\n",
    "\n",
    "    \n",
    "    "
   ]
  },
  {
   "cell_type": "code",
   "execution_count": 69,
   "id": "8b5940bb-f73a-4b89-a870-6d7788d81d28",
   "metadata": {},
   "outputs": [],
   "source": [
    "\n",
    "def evaluate_models(test_label: pd.Series, \n",
    "                    naive_bayes_prediction: pd.Series, \n",
    "                    logistic_regression_prediction: pd.Series, \n",
    "                    random_forest_prediction: pd.Series):\n",
    "    \n",
    "    \"\"\"\n",
    "    Parameters:\n",
    "    - test_label: True labels for the test set (pd.Series)\n",
    "    - naive_bayes_prediction: Predictions from the Naive Bayes model (pd.Series)\n",
    "    - logistic_regression_prediction: Predictions from the Logistic Regression model (pd.Series)\n",
    "    - random_forest_prediction: Predictions from the Random Forest model (pd.Series)\n",
    "    \n",
    "    Return:\n",
    "    - Prints evaluation metrics including F1-score, Recall, Precision, and Classification Report for all models.\n",
    "    \"\"\"\n",
    "    \n",
    "    # Model Evaluation: Naive Bayes\n",
    "    print('Naive Bayes Model Evaluation:')\n",
    "    print(f'F1-Score: {f1_score(test_label, naive_bayes_prediction, average=\"weighted\"):.4f}')\n",
    "    print(f'Recall: {recall_score(test_label, naive_bayes_prediction, average=\"weighted\"):.4f}')\n",
    "    print(f'Precision: {precision_score(test_label, naive_bayes_prediction, average=\"weighted\"):.4f}')\n",
    "    print('Classification Report:\\n', classification_report(test_label, naive_bayes_prediction))\n",
    "    \n",
    "    print('-' * 50)\n",
    "    \n",
    "    # Model Evaluation: Logistic Regression\n",
    "    print('Logistic Regression Model Evaluation:')\n",
    "    print(f'F1-Score: {f1_score(test_label, logistic_regression_prediction, average=\"weighted\"):.4f}')\n",
    "    print(f'Recall: {recall_score(test_label, logistic_regression_prediction, average=\"weighted\"):.4f}')\n",
    "    print(f'Precision: {precision_score(test_label, logistic_regression_prediction, average=\"weighted\"):.4f}')\n",
    "    print('Classification Report:\\n', classification_report(test_label, logistic_regression_prediction))\n",
    "    \n",
    "    print('-' * 50)\n",
    "    \n",
    "    # Model Evaluation: Random Forest\n",
    "    print('Random Forest Model Evaluation:')\n",
    "    print(f'F1-Score: {f1_score(test_label, random_forest_prediction, average=\"weighted\"):.4f}')\n",
    "    print(f'Recall: {recall_score(test_label, random_forest_prediction, average=\"weighted\"):.4f}')\n",
    "    print(f'Precision: {precision_score(test_label, random_forest_prediction, average=\"weighted\"):.4f}')\n",
    "    print('Classification Report:\\n', classification_report(test_label, random_forest_prediction))\n",
    "\n",
    "    print('Evaluation Completed')\n"
   ]
  },
  {
   "cell_type": "code",
   "execution_count": 70,
   "id": "dce99d57-6788-4c4c-9459-044cadf37414",
   "metadata": {},
   "outputs": [
    {
     "name": "stdout",
     "output_type": "stream",
     "text": [
      "Data Splitted successfully to Training, Testing and Validation set\n"
     ]
    }
   ],
   "source": [
    "#Split Data\n",
    "train_features,test_features,val_features,train_label,test_label,val_label = split_data(vectors,label)\n"
   ]
  },
  {
   "cell_type": "code",
   "execution_count": 58,
   "id": "7c5f2c43-19c9-4cdd-9fae-ca5d8c194a1e",
   "metadata": {},
   "outputs": [
    {
     "name": "stdout",
     "output_type": "stream",
     "text": [
      "Models Initialization Completed\n",
      "Naive Bayes Completed time taken is 19.05 seconds\n",
      "Logistic Regression Completed time taken is 292.10 seconds\n",
      "Random Forest Completed time taken is 75.34 seconds\n",
      "Models Training Completed\n",
      "Models Predictions Complete\n"
     ]
    }
   ],
   "source": [
    "#Train Models\n",
    "naive_bayes_pred, logistic_regression_pred, random_forest_pred = train_models(train_features,\n",
    "                                                                              test_features,\n",
    "                                                                              train_label,\n",
    "                                                                              test_label)"
   ]
  },
  {
   "cell_type": "code",
   "execution_count": null,
   "id": "22af1227-a7fa-4a62-9343-23972761c67f",
   "metadata": {},
   "outputs": [],
   "source": [
    "# Call evaluate function\n",
    "evaluate_models(test_label, naive_bayes_pred, logistic_regression_pred, random_forest_pred)"
   ]
  },
  {
   "cell_type": "code",
   "execution_count": 73,
   "id": "1e7b6382-6b0f-44ac-bd9a-2a4d9b876b5b",
   "metadata": {},
   "outputs": [],
   "source": [
    "def grid_search_tuning(train_features: pd.Series,\n",
    "                       test_features: pd.Series,\n",
    "                       val_features: pd.Series,\n",
    "                       train_label: pd.Series,\n",
    "                       test_label: pd.Series,\n",
    "                       val_label: pd.Series):\n",
    "    \"\"\"\n",
    "    Perform hyperparameter tuning for Naive Bayes, Logistic Regression, and Random Forest models using GridSearchCV.\n",
    "    \n",
    "    Parameters:\n",
    "    - train_features: Training features (pd.Series)\n",
    "    - train_label: Training labels (pd.Series)\n",
    "    - test_features: Testing features (pd.Series)\n",
    "    - test_labels: Testing Labels (pd.Series)\n",
    "    - val_features: Validation features (pd.Series)\n",
    "    - val_label: Validation Labels (pd.Series)\n",
    "    Returns:\n",
    "    - Best hyperparameters for each model\n",
    "    \"\"\"\n",
    "    \n",
    "    # Naive Bayes Hyperparameter Tuning\n",
    "    naive_bayes = MultinomialNB()\n",
    "    naive_bayes_params = {\n",
    "        'alpha': [0.1, 0.5, 1.0],\n",
    "        'fit_prior': [True, False] # hyperparameter values for Naive Bayes\n",
    "    }\n",
    "    print('Starting HyperParameter Tuning')\n",
    "    start_time = time.time()\n",
    "    naive_bayes_grid = GridSearchCV(estimator=naive_bayes,\n",
    "                                    param_grid=naive_bayes_params,\n",
    "                                    cv=5,\n",
    "                                    scoring='f1_weighted')\n",
    "    \n",
    "    naive_bayes_grid.fit(train_features, train_label)\n",
    "    end_time = time.time()\n",
    "    time_taken = end_time - start_time\n",
    "    print(f'Grid Search HyperParameter Tuning Completed time taken is {time_taken:.2f} seconds')\n",
    "    naive_bayes_grid_predictions = naive_bayes_grid.predict(test_features)\n",
    "    print(f'Best Params for Naive Bayes: {naive_bayes_grid.best_params_}')\n",
    "\n",
    "    print('Naive Bayes Model Grid Search Evaluation On Testing Subset:')\n",
    "    print(f'F1-Score: {f1_score(test_label, naive_bayes_grid_predictions, average=\"weighted\"):.4f}')\n",
    "    print(f'Recall: {recall_score(test_label, naive_bayes_grid_predictions, average=\"weighted\"):.4f}')\n",
    "    print(f'Precision: {precision_score(test_label, naive_bayes_grid_predictions, average=\"weighted\"):.4f}')\n",
    "    print('Classification Report:\\n', classification_report(test_label, naive_bayes_grid_predictions))\n",
    "\n",
    "    \n",
    "    naive_bayes_grid_predictions_validation = naive_bayes_grid.predict(val_features)\n",
    "    print('Naive Bayes Model Grid Search Evaluation On Validation Subset:')\n",
    "    print(f'F1-Score: {f1_score(val_label, naive_bayes_grid_predictions_validation, average=\"weighted\"):.4f}')\n",
    "    print(f'Recall: {recall_score(val_label, naive_bayes_grid_predictions_validation, average=\"weighted\"):.4f}')\n",
    "    print(f'Precision: {precision_score(val_label, naive_bayes_grid_predictions_validation, average=\"weighted\"):.4f}')\n",
    "    print('Classification Report:\\n', classification_report(val_label, naive_bayes_grid_predictions_validation))\n",
    "\n",
    "    with open('pickles/final_naivebaye_model.pkl','wb') as file:\n",
    "        pickle.dump(naive_bayes_grid, file)\n",
    "\n",
    "    print('Model Saved To Pickle Folder')\n",
    "    \n",
    "   \n"
   ]
  },
  {
   "cell_type": "code",
   "execution_count": 74,
   "id": "60331174-3c66-40d7-a080-077d004e7da5",
   "metadata": {},
   "outputs": [
    {
     "name": "stdout",
     "output_type": "stream",
     "text": [
      "Starting HyperParameter Tuning\n",
      "Grid Search HyperParameter Tuning Completed time taken is 191.10 seconds\n",
      "Best Params for Naive Bayes: {'alpha': 0.1, 'fit_prior': True}\n",
      "Naive Bayes Model Grid Search Evaluation On Testing Subset:\n",
      "F1-Score: 0.9901\n",
      "Recall: 0.9900\n",
      "Precision: 0.9904\n",
      "Classification Report:\n",
      "               precision    recall  f1-score   support\n",
      "\n",
      "           0       1.00      1.00      1.00       212\n",
      "           1       1.00      0.97      0.98       198\n",
      "           2       0.96      1.00      0.98       187\n",
      "           3       1.00      1.00      1.00       207\n",
      "\n",
      "    accuracy                           0.99       804\n",
      "   macro avg       0.99      0.99      0.99       804\n",
      "weighted avg       0.99      0.99      0.99       804\n",
      "\n",
      "Naive Bayes Model Grid Search Evaluation On Validation Subset:\n",
      "F1-Score: 1.0000\n",
      "Recall: 1.0000\n",
      "Precision: 1.0000\n",
      "Classification Report:\n",
      "               precision    recall  f1-score   support\n",
      "\n",
      "           0       1.00      1.00      1.00        97\n",
      "           1       1.00      1.00      1.00        99\n",
      "           2       1.00      1.00      1.00        98\n",
      "           3       1.00      1.00      1.00       102\n",
      "\n",
      "    accuracy                           1.00       396\n",
      "   macro avg       1.00      1.00      1.00       396\n",
      "weighted avg       1.00      1.00      1.00       396\n",
      "\n",
      "Model Saved To Pickle Folder\n"
     ]
    }
   ],
   "source": [
    "grid_search_tuning(train_features, test_features, val_features,train_label, test_label,val_label)"
   ]
  },
  {
   "cell_type": "code",
   "execution_count": 2,
   "id": "e74f4005-e358-439c-8368-ef1fdabe7662",
   "metadata": {},
   "outputs": [],
   "source": [
    "spanish = ['hola, como estas?', 'Buenos dias', 'Por favor, donde esta','Adios, hasta manana']\n",
    "german = ['Guten Morgen','Wie geht es ihnen','Wo ist die Toilette?','Auf wiedersehen']\n",
    "afrikaans = ['goeie more','hoe gaan dit met jou?','waar is die badkamer?','Ek verstaan nie']"
   ]
  },
  {
   "cell_type": "code",
   "execution_count": 5,
   "id": "e534434c-a74b-4ea9-994e-b81361eae0da",
   "metadata": {},
   "outputs": [],
   "source": [
    "with open('pickles/final_naivebaye_model.pkl','rb') as file:\n",
    "    classifier = pickle.load(file)\n",
    "\n",
    "with open('pickles/tfidf_vectorizer.pkl','rb') as file:\n",
    "    tfidf_vectorizer = pickle.load(file)\n",
    "\n",
    "with open('pickles/language_label_mapping.pkl','rb') as file:\n",
    "    mapping = pickle.load(file)\n",
    "\n"
   ]
  },
  {
   "cell_type": "markdown",
   "id": "92fc8281-20c2-47c3-9171-3b56c18005e6",
   "metadata": {},
   "source": [
    "### Testing Model\n",
    "- Test the model on user written phrases"
   ]
  },
  {
   "cell_type": "code",
   "execution_count": 19,
   "id": "3804d2c8-4973-4614-89b9-457214d5e129",
   "metadata": {},
   "outputs": [],
   "source": [
    "def testing_model(phrases:list, language:str)-> int:\n",
    "    score = 0\n",
    "\n",
    "    for phrase in phrases:\n",
    "        vectors = tfidf_vectorizer.transform([phrase]).toarray()\n",
    "        prediction = classifier.predict(vectors)[0]\n",
    "        \n",
    "        if mapping[language] == prediction:\n",
    "            score += 1\n",
    "        else:\n",
    "            continue\n",
    "\n",
    "    print(f'Score is = {score}/4')"
   ]
  },
  {
   "cell_type": "code",
   "execution_count": 29,
   "id": "9c52c580-ac06-4f3c-9338-39879618bb2a",
   "metadata": {},
   "outputs": [
    {
     "name": "stdout",
     "output_type": "stream",
     "text": [
      "Score is = 4/4\n"
     ]
    }
   ],
   "source": [
    "testing_model(afrikaans,'afr')"
   ]
  },
  {
   "cell_type": "code",
   "execution_count": 33,
   "id": "78e953af-ba45-4e50-b450-1de2f764f5dd",
   "metadata": {},
   "outputs": [
    {
     "data": {
      "text/plain": [
       "array([0.00958062, 0.01000322, 0.0097704 , 0.97064575])"
      ]
     },
     "execution_count": 33,
     "metadata": {},
     "output_type": "execute_result"
    }
   ],
   "source": [
    "classifier.predict_proba(vectors)"
   ]
  },
  {
   "cell_type": "code",
   "execution_count": 25,
   "id": "d1271330-0345-486f-a5be-3541214e9bae",
   "metadata": {},
   "outputs": [
    {
     "name": "stdout",
     "output_type": "stream",
     "text": [
      "{'afr': 0, 'als': 1, 'deu': 2, 'spa': 3}\n"
     ]
    }
   ],
   "source": [
    "print(mapping)"
   ]
  },
  {
   "cell_type": "code",
   "execution_count": null,
   "id": "700a25bd-4583-4c08-b68c-832c436503f5",
   "metadata": {},
   "outputs": [],
   "source": []
  }
 ],
 "metadata": {
  "kernelspec": {
   "display_name": "Python 3 (ipykernel)",
   "language": "python",
   "name": "python3"
  },
  "language_info": {
   "codemirror_mode": {
    "name": "ipython",
    "version": 3
   },
   "file_extension": ".py",
   "mimetype": "text/x-python",
   "name": "python",
   "nbconvert_exporter": "python",
   "pygments_lexer": "ipython3",
   "version": "3.11.7"
  },
  "widgets": {
   "application/vnd.jupyter.widget-state+json": {
    "state": {},
    "version_major": 2,
    "version_minor": 0
   }
  }
 },
 "nbformat": 4,
 "nbformat_minor": 5
}
